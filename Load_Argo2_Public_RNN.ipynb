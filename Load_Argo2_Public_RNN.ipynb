{
 "cells": [
  {
   "cell_type": "markdown",
   "id": "718c38cf",
   "metadata": {},
   "source": [
    "## Install the package dependencies before running this notebook"
   ]
  },
  {
   "cell_type": "code",
   "execution_count": 1,
   "id": "16ac7530",
   "metadata": {},
   "outputs": [
    {
     "data": {
      "text/html": [
       "<style>.container { width:100% !important; }</style>"
      ],
      "text/plain": [
       "<IPython.core.display.HTML object>"
      ]
     },
     "metadata": {},
     "output_type": "display_data"
    },
    {
     "name": "stdout",
     "output_type": "stream",
     "text": [
      "\n",
      "    number of trajectories in each city \n",
      "    # austin --  train: 43041 test: 6325\n",
      "    # miami -- train: 55029 test:7971\n",
      "    # pittsburgh -- train: 43544 test: 6361\n",
      "    # dearborn -- train: 24465 test: 3671\n",
      "    # washington-dc -- train: 25744 test: 3829\n",
      "    # palo-alto -- train:  11993 test:1686\n",
      "\n",
      "    trajectories sampled at 10HZ rate, input 5 seconds (50 timesteps), output 6 seconds (60 timesteps).\n",
      "    \n"
     ]
    }
   ],
   "source": [
    "from IPython.display import display, HTML\n",
    "display(HTML(\"<style>.container { width:100% !important; }</style>\"))\n",
    "import torch\n",
    "import torch.nn as nn\n",
    "from torch.utils.data import Dataset, DataLoader\n",
    "import os, os.path \n",
    "import numpy \n",
    "import pickle\n",
    "from glob import glob\n",
    "\n",
    "s = \"\"\"\n",
    "    number of trajectories in each city \n",
    "    # austin --  train: 43041 test: 6325\n",
    "    # miami -- train: 55029 test:7971\n",
    "    # pittsburgh -- train: 43544 test: 6361\n",
    "    # dearborn -- train: 24465 test: 3671\n",
    "    # washington-dc -- train: 25744 test: 3829\n",
    "    # palo-alto -- train:  11993 test:1686\n",
    "\n",
    "    trajectories sampled at 10HZ rate, input 5 seconds (50 timesteps), output 6 seconds (60 timesteps).\n",
    "    \"\"\"\n",
    "print(s)\n"
   ]
  },
  {
   "cell_type": "markdown",
   "id": "0b472cf2",
   "metadata": {},
   "source": [
    "## Create a Torch.Dataset class for the training dataset"
   ]
  },
  {
   "cell_type": "code",
   "execution_count": 2,
   "id": "091abbb7",
   "metadata": {},
   "outputs": [
    {
     "name": "stdout",
     "output_type": "stream",
     "text": [
      "inputs shape = (11993, 50, 2)\n",
      "outputs shape = (11993, 60, 2)\n",
      "TRAIN dataset ready for PALO-ALTO.\n"
     ]
    }
   ],
   "source": [
    "from glob import glob\n",
    "import pickle\n",
    "import numpy as np\n",
    "\n",
    "ROOT_PATH = \"./\"\n",
    "\n",
    "cities = [\"austin\", \"miami\", \"pittsburgh\", \"dearborn\", \"washington-dc\", \"palo-alto\"]\n",
    "splits = [\"train\", \"test\"]\n",
    "\n",
    "# Returns entire dataset for a city. Training input and label output, or just test input.\n",
    "def get_city_trajectories(city=\"palo-alto\", split=\"train\", normalized=False):\n",
    "    f_in = os.path.join(ROOT_PATH, split, f\"{city}_inputs\")\n",
    "    inputs = pickle.load(open(f_in, \"rb\"))\n",
    "    inputs = np.asarray(inputs) # All input trajectories\n",
    "    outputs = None # Labels when training, empty if testing\n",
    "    \n",
    "    if split==\"train\":\n",
    "        f_out = os.path.join(ROOT_PATH, split, f\"{city}_outputs\")\n",
    "        outputs = pickle.load(open(f_out, \"rb\"))\n",
    "        outputs = np.asarray(outputs)\n",
    "\n",
    "    print(f\"inputs shape = {inputs.shape}\")\n",
    "    print(f\"outputs shape = {outputs.shape}\")\n",
    "    return inputs, outputs\n",
    "\n",
    "\"\"\"Dataset class for Argoverse\"\"\"\n",
    "class ArgoverseDataset(Dataset):\n",
    "    def __init__(self, city:str, split:str, transform=None):\n",
    "        super(ArgoverseDataset, self).__init__()\n",
    "        self.transform = transform\n",
    "        self.inputs, self.outputs = get_city_trajectories(city=city, split=split, normalized=False)\n",
    "    def __len__(self):\n",
    "        return len(self.inputs)\n",
    "    def __getitem__(self, idx):\n",
    "        data = (self.inputs[idx], self.outputs[idx]) # Each data is a tuple of (input trajectory, output trajectory)\n",
    "        if self.transform:\n",
    "            data = self.transform(data)\n",
    "        return data\n",
    "\n",
    "# intialize a dataset\n",
    "city = 'palo-alto' \n",
    "split = 'train'\n",
    "city_dataset  = ArgoverseDataset(city = city, split = split)\n",
    "print(f\"{split.upper()} dataset ready for {city.upper()}.\")"
   ]
  },
  {
   "cell_type": "markdown",
   "id": "058453cc",
   "metadata": {},
   "source": [
    "## Create a DataLoader class for training"
   ]
  },
  {
   "cell_type": "code",
   "execution_count": 3,
   "id": "5c14f0e7",
   "metadata": {},
   "outputs": [
    {
     "name": "stdout",
     "output_type": "stream",
     "text": [
      "TRAIN dataloader using batches of 4 is ready for city PALO-ALTO.\n"
     ]
    }
   ],
   "source": [
    "batch_sz = 4  # batch size \n",
    "fullcity_loader = DataLoader(city_dataset,batch_size=batch_sz)\n",
    "print(f\"{split.upper()} dataloader using batches of {batch_sz} is ready for city {city.upper()}.\")"
   ]
  },
  {
   "cell_type": "markdown",
   "id": "6f80b5e4",
   "metadata": {},
   "source": [
    "## Sample a batch of data and visualize "
   ]
  },
  {
   "cell_type": "code",
   "execution_count": 4,
   "id": "c6507c9a",
   "metadata": {},
   "outputs": [
    {
     "name": "stdout",
     "output_type": "stream",
     "text": [
      "Loaded batch #0\n",
      "    Shape is (batch, trajectory_length, coord_dim)\n",
      "    inp shape = torch.Size([4, 50, 2])\n",
      "    out shape = torch.Size([4, 60, 2])\n",
      "    batch_sz = 4\n",
      "    agent_sz = 50\n",
      "\n",
      "Each column is one (input,output) pair\n"
     ]
    },
    {
     "data": {
      "image/png": "[encoded data removed]",
      "text/plain": [
       "<Figure size 1080x432 with 8 Axes>"
      ]
     },
     "metadata": {},
     "output_type": "display_data"
    }
   ],
   "source": [
    "import matplotlib.pyplot as plt\n",
    "import random\n",
    "\n",
    "\n",
    "def show_sample_batch(sample_batch):\n",
    "    \"\"\"visualize the trajectory for a batch of samples\"\"\"\n",
    "    inp, out = sample_batch\n",
    "    print(f\"    Shape is (batch, trajectory_length, coord_dim)\")\n",
    "    print(f\"    inp shape = {inp.shape}\")\n",
    "    print(f\"    out shape = {out.shape}\")\n",
    "    batch_sz = inp.size(0)\n",
    "    agent_sz = inp.size(1) # Input trajectory length?\n",
    "    print(f\"    batch_sz = {batch_sz}\")\n",
    "    print(f\"    agent_sz = {agent_sz}\")\n",
    "    \n",
    "    fig, axs = plt.subplots(2,batch_sz, figsize=(15, 6), facecolor='w', edgecolor='k')\n",
    "    fig.subplots_adjust(hspace = .5, wspace=.001)\n",
    "#     axs = axs.ravel()   \n",
    "    print(\"\\nEach column is one (input,output) pair\")\n",
    "    axs[0][0].set_ylabel(\"First row\")\n",
    "    for i in range(batch_sz):\n",
    "        # first two feature dimensions are (x,y) positions\n",
    "        axs[0][i].scatter(inp[i,:,0], inp[i,:,1], c='lightskyblue')\n",
    "        axs[1][i].scatter(out[i,:,0], out[i,:,1], c='lightcoral')\n",
    "        # Show position at first time step\n",
    "        axs[0][i].scatter(inp[i,0,0], inp[i,0,1], c='g')\n",
    "        axs[1][i].scatter(out[i,0,0], out[i,0,1], c='g')        \n",
    "\n",
    "        \n",
    "for ith_batch, sample_batch in enumerate(fullcity_loader):\n",
    "    print(f\"Loaded batch #{ith_batch}\")\n",
    "    inp, out = sample_batch #\n",
    "    \"\"\"\n",
    "    TODO:\n",
    "      implement your Deep learning model\n",
    "      implement training routine\n",
    "    \"\"\"\n",
    "    show_sample_batch(sample_batch)\n",
    "    break"
   ]
  },
  {
   "cell_type": "markdown",
   "id": "ae0a36d0",
   "metadata": {},
   "source": [
    "## Training Loop"
   ]
  },
  {
   "cell_type": "code",
   "execution_count": 5,
   "id": "3706582d",
   "metadata": {},
   "outputs": [
    {
     "name": "stdout",
     "output_type": "stream",
     "text": [
      "tensor([0, 1, 2, 3, 4, 5])\n",
      "torch.Size([6])\n",
      "tensor([[0, 1, 2],\n",
      "        [3, 4, 5]])\n",
      "torch.Size([2, 3])\n"
     ]
    }
   ],
   "source": [
    "\n",
    "# loss = nn.MSELoss()\n",
    "# input = torch.arange(12,dtype=torch.float32).reshape((3,4))\n",
    "# print(input)\n",
    "# target = input + 2\n",
    "# print(target)\n",
    "# output = loss(input,target)\n",
    "# print(output)\n",
    "\n",
    "# Check for GPU\n",
    "# device = torch.device('cuda' if torch.cuda.is_available() else 'cpu')\n",
    "# print(f\"device = {device}\")\n",
    "# !nvidia-smi -L\n",
    "\n",
    "input = torch.arange(6)\n",
    "print(input)\n",
    "print(input.shape)\n",
    "input = input.reshape(2,3)\n",
    "print(input)\n",
    "print(input.shape)\n",
    "# input = torch.arange(24).reshape(4,3,2)\n",
    "# # x = torch.zeros(1,4,2)\n",
    "# x = torch.arange(8).reshape(4,1,2)\n",
    "# x = -1*x\n",
    "# x = torch.squeeze(x)\n",
    "# x = torch.unsqueeze(x,1)\n",
    "# print(f\"x shape = {x.shape}\")\n",
    "\n",
    "# output = torch.cat((input,x), 1)\n",
    "# x.shape\n",
    "# output"
   ]
  },
  {
   "cell_type": "code",
   "execution_count": 17,
   "id": "0d89f551",
   "metadata": {},
   "outputs": [
    {
     "name": "stdout",
     "output_type": "stream",
     "text": [
      "inputs shape = (11993, 50, 2)\n",
      "outputs shape = (11993, 60, 2)\n",
      "full_dataset type = <class '__main__.ArgoverseDataset'>\n",
      "train_set type = <class 'torch.utils.data.dataset.Subset'>\n"
     ]
    },
    {
     "name": "stderr",
     "output_type": "stream",
     "text": [
      "100%|██████████| 312/312 [00:18<00:00, 16.44it/s]\n",
      "100%|██████████| 62/62 [00:01<00:00, 60.62it/s]\n"
     ]
    },
    {
     "name": "stdout",
     "output_type": "stream",
     "text": [
      "(train) epoch 1,      avg. train loss     : 4955812202.666667\n",
      "train_alt = 10324608.755555557\n",
      "(validation) epoch 1, avg. validation loss: 6173233292.387096\n",
      "validation_alt = 1595549.7087210272\n"
     ]
    },
    {
     "name": "stderr",
     "output_type": "stream",
     "text": [
      "100%|██████████| 312/312 [00:18<00:00, 16.55it/s]\n",
      "100%|██████████| 62/62 [00:01<00:00, 50.52it/s]\n"
     ]
    },
    {
     "name": "stdout",
     "output_type": "stream",
     "text": [
      "(train) epoch 2,      avg. train loss     : 9196411213.128204\n",
      "train_alt = 19159190.027350426\n",
      "(validation) epoch 2, avg. validation loss: 14288186252.387096\n",
      "validation_alt = 3692961.262497916\n"
     ]
    },
    {
     "name": "stderr",
     "output_type": "stream",
     "text": [
      "100%|██████████| 312/312 [00:18<00:00, 16.97it/s]\n",
      "100%|██████████| 62/62 [00:01<00:00, 61.71it/s]\n"
     ]
    },
    {
     "name": "stdout",
     "output_type": "stream",
     "text": [
      "(train) epoch 3,      avg. train loss     : 17616983718.564102\n",
      "train_alt = 36702049.41367521\n",
      "(validation) epoch 3, avg. validation loss: 26631928039.225807\n",
      "validation_alt = 6883356.421677505\n"
     ]
    },
    {
     "name": "stderr",
     "output_type": "stream",
     "text": [
      "100%|██████████| 312/312 [00:18<00:00, 16.60it/s]\n",
      "100%|██████████| 62/62 [00:01<00:00, 60.77it/s]\n"
     ]
    },
    {
     "name": "stdout",
     "output_type": "stream",
     "text": [
      "(train) epoch 4,      avg. train loss     : 30957512139.48718\n",
      "train_alt = 64494816.95726495\n",
      "(validation) epoch 4, avg. validation loss: 21038977123.096775\n",
      "validation_alt = 5437787.984125395\n"
     ]
    },
    {
     "name": "stderr",
     "output_type": "stream",
     "text": [
      "100%|██████████| 312/312 [00:19<00:00, 16.07it/s]\n",
      "100%|██████████| 62/62 [00:01<00:00, 51.40it/s]\n"
     ]
    },
    {
     "name": "stdout",
     "output_type": "stream",
     "text": [
      "(train) epoch 5,      avg. train loss     : 71131008124.71794\n",
      "train_alt = 148189600.25982904\n",
      "(validation) epoch 5, avg. validation loss: 94067988281.80646\n",
      "validation_alt = 24313053.499549773\n"
     ]
    },
    {
     "name": "stderr",
     "output_type": "stream",
     "text": [
      "100%|██████████| 312/312 [00:18<00:00, 16.49it/s]\n",
      "100%|██████████| 62/62 [00:01<00:00, 61.28it/s]\n"
     ]
    },
    {
     "name": "stdout",
     "output_type": "stream",
     "text": [
      "(train) epoch 6,      avg. train loss     : 52162728802.46154\n",
      "train_alt = 108672351.67179488\n",
      "(validation) epoch 6, avg. validation loss: 37709896968.258064\n",
      "validation_alt = 9746596.68180757\n"
     ]
    },
    {
     "name": "stderr",
     "output_type": "stream",
     "text": [
      "100%|██████████| 312/312 [00:18<00:00, 16.55it/s]\n",
      "100%|██████████| 62/62 [00:00<00:00, 62.50it/s]\n"
     ]
    },
    {
     "name": "stdout",
     "output_type": "stream",
     "text": [
      "(train) epoch 7,      avg. train loss     : 27609792147.692307\n",
      "train_alt = 57520400.307692304\n",
      "(validation) epoch 7, avg. validation loss: 35352812907.354836\n",
      "validation_alt = 9137378.690411871\n"
     ]
    },
    {
     "name": "stderr",
     "output_type": "stream",
     "text": [
      "100%|██████████| 312/312 [00:18<00:00, 16.81it/s]\n",
      "100%|██████████| 62/62 [00:01<00:00, 61.55it/s]\n"
     ]
    },
    {
     "name": "stdout",
     "output_type": "stream",
     "text": [
      "(train) epoch 8,      avg. train loss     : 62247664607.17949\n",
      "train_alt = 129682634.5982906\n",
      "(validation) epoch 8, avg. validation loss: 58892993370.83871\n",
      "validation_alt = 15221634.104518926\n"
     ]
    },
    {
     "name": "stderr",
     "output_type": "stream",
     "text": [
      " 29%|██▉       | 92/312 [00:05<00:12, 16.97it/s]\n"
     ]
    },
    {
     "ename": "KeyboardInterrupt",
     "evalue": "",
     "output_type": "error",
     "traceback": [
      "\u001b[0;31m---------------------------------------------------------------------------\u001b[0m",
      "\u001b[0;31mKeyboardInterrupt\u001b[0m                         Traceback (most recent call last)",
      "\u001b[0;32m/tmp/ipykernel_109/1936901824.py\u001b[0m in \u001b[0;36m<module>\u001b[0;34m\u001b[0m\n\u001b[1;32m    160\u001b[0m         \u001b[0;31m# Gradient descent\u001b[0m\u001b[0;34m\u001b[0m\u001b[0;34m\u001b[0m\u001b[0;34m\u001b[0m\u001b[0m\n\u001b[1;32m    161\u001b[0m         \u001b[0mopt\u001b[0m\u001b[0;34m.\u001b[0m\u001b[0mzero_grad\u001b[0m\u001b[0;34m(\u001b[0m\u001b[0;34m)\u001b[0m\u001b[0;34m\u001b[0m\u001b[0;34m\u001b[0m\u001b[0m\n\u001b[0;32m--> 162\u001b[0;31m         \u001b[0ml\u001b[0m\u001b[0;34m.\u001b[0m\u001b[0mbackward\u001b[0m\u001b[0;34m(\u001b[0m\u001b[0;34m)\u001b[0m\u001b[0;34m\u001b[0m\u001b[0;34m\u001b[0m\u001b[0m\n\u001b[0m\u001b[1;32m    163\u001b[0m         \u001b[0mopt\u001b[0m\u001b[0;34m.\u001b[0m\u001b[0mstep\u001b[0m\u001b[0;34m(\u001b[0m\u001b[0;34m)\u001b[0m\u001b[0;34m\u001b[0m\u001b[0;34m\u001b[0m\u001b[0m\n\u001b[1;32m    164\u001b[0m \u001b[0;34m\u001b[0m\u001b[0m\n",
      "\u001b[0;32m/opt/conda/lib/python3.9/site-packages/torch/_tensor.py\u001b[0m in \u001b[0;36mbackward\u001b[0;34m(self, gradient, retain_graph, create_graph, inputs)\u001b[0m\n\u001b[1;32m    253\u001b[0m                 \u001b[0mcreate_graph\u001b[0m\u001b[0;34m=\u001b[0m\u001b[0mcreate_graph\u001b[0m\u001b[0;34m,\u001b[0m\u001b[0;34m\u001b[0m\u001b[0;34m\u001b[0m\u001b[0m\n\u001b[1;32m    254\u001b[0m                 inputs=inputs)\n\u001b[0;32m--> 255\u001b[0;31m         \u001b[0mtorch\u001b[0m\u001b[0;34m.\u001b[0m\u001b[0mautograd\u001b[0m\u001b[0;34m.\u001b[0m\u001b[0mbackward\u001b[0m\u001b[0;34m(\u001b[0m\u001b[0mself\u001b[0m\u001b[0;34m,\u001b[0m \u001b[0mgradient\u001b[0m\u001b[0;34m,\u001b[0m \u001b[0mretain_graph\u001b[0m\u001b[0;34m,\u001b[0m \u001b[0mcreate_graph\u001b[0m\u001b[0;34m,\u001b[0m \u001b[0minputs\u001b[0m\u001b[0;34m=\u001b[0m\u001b[0minputs\u001b[0m\u001b[0;34m)\u001b[0m\u001b[0;34m\u001b[0m\u001b[0;34m\u001b[0m\u001b[0m\n\u001b[0m\u001b[1;32m    256\u001b[0m \u001b[0;34m\u001b[0m\u001b[0m\n\u001b[1;32m    257\u001b[0m     \u001b[0;32mdef\u001b[0m \u001b[0mregister_hook\u001b[0m\u001b[0;34m(\u001b[0m\u001b[0mself\u001b[0m\u001b[0;34m,\u001b[0m \u001b[0mhook\u001b[0m\u001b[0;34m)\u001b[0m\u001b[0;34m:\u001b[0m\u001b[0;34m\u001b[0m\u001b[0;34m\u001b[0m\u001b[0m\n",
      "\u001b[0;32m/opt/conda/lib/python3.9/site-packages/torch/autograd/__init__.py\u001b[0m in \u001b[0;36mbackward\u001b[0;34m(tensors, grad_tensors, retain_graph, create_graph, grad_variables, inputs)\u001b[0m\n\u001b[1;32m    145\u001b[0m         \u001b[0mretain_graph\u001b[0m \u001b[0;34m=\u001b[0m \u001b[0mcreate_graph\u001b[0m\u001b[0;34m\u001b[0m\u001b[0;34m\u001b[0m\u001b[0m\n\u001b[1;32m    146\u001b[0m \u001b[0;34m\u001b[0m\u001b[0m\n\u001b[0;32m--> 147\u001b[0;31m     Variable._execution_engine.run_backward(\n\u001b[0m\u001b[1;32m    148\u001b[0m         \u001b[0mtensors\u001b[0m\u001b[0;34m,\u001b[0m \u001b[0mgrad_tensors_\u001b[0m\u001b[0;34m,\u001b[0m \u001b[0mretain_graph\u001b[0m\u001b[0;34m,\u001b[0m \u001b[0mcreate_graph\u001b[0m\u001b[0;34m,\u001b[0m \u001b[0minputs\u001b[0m\u001b[0;34m,\u001b[0m\u001b[0;34m\u001b[0m\u001b[0;34m\u001b[0m\u001b[0m\n\u001b[1;32m    149\u001b[0m         allow_unreachable=True, accumulate_grad=True)  # allow_unreachable flag\n",
      "\u001b[0;31mKeyboardInterrupt\u001b[0m: "
     ]
    }
   ],
   "source": [
    "# Custom MLP layer based on this article: https://auro-227.medium.com/writing-a-custom-layer-in-pytorch-14ab6ac94b77\n",
    "class MLPlayer(nn.Module):\n",
    "    def __init__(self, input_size):\n",
    "        super().__init__()\n",
    "        self.input_size = input_size\n",
    "        self.outL1 = nn.Linear(input_size, 32)\n",
    "        self.outA1 = nn.ReLU()\n",
    "        self.outL2 = nn.Linear(32,2)\n",
    "    def forward(self, input):\n",
    "        # assert input.size == self.input_size\n",
    "        s1 = self.outL1(input)\n",
    "        x2 = self.outA1(s1)\n",
    "        s2 = self.outL2(x2)\n",
    "        return s2\n",
    "\n",
    "\n",
    "# Define model class: RNN using LSTM that is a many-to-many architecture.\n",
    "# It takes in the 50-long input and only then starts predicting the next 60 timesteps autoregressively.\n",
    "class rnn(nn.Module):\n",
    "    \n",
    "    def initStates(self, batch_size):\n",
    "        # Use Xavier initialization?\n",
    "        return torch.zeros(1, batch_size, self.hidden_size), torch.zeros(1, batch_size, self.hidden_size)    \n",
    "    \n",
    "    # Many-to-many LSTM with optional MLP on top (to hopefully massage output trajectory into more realistic shape)\n",
    "    def __init__(self, input_size, hidden_size):\n",
    "        \n",
    "        # Boilerplate initializations\n",
    "        super().__init__()\n",
    "        self.hidden_size = hidden_size\n",
    "        self.unroll = 60 # Number of timesteps we want to unroll after finishing reading input\n",
    "        \n",
    "        # Reads in 5 sec of input, gives final hidden/cell states and first predicted coord pair to decoder\n",
    "        self.encoder = nn.LSTM(input_size, hidden_size, batch_first=True)\n",
    "        \n",
    "        # Outputs 6 sec of predicted trajectory\n",
    "        self.decoder = nn.LSTM(input_size, hidden_size, batch_first=True)\n",
    "        \n",
    "        # Get output of decoder into 2-dim coord vector\n",
    "        self.mlp = MLPlayer(hidden_size)    \n",
    "\n",
    "        \n",
    "    def forward(self, traj_in, hidden_init, cell_init):\n",
    "        # Encode input trajectory to get hidden/cell states\n",
    "        encoder_hidden_states, (final_encoder_hidden, final_encoder_cell) = self.encoder(traj_in, (hidden_init, cell_init))\n",
    "#         print(f\"final_encoder_hidden shape = {final_encoder_hidden.shape}\")\n",
    "        \n",
    "        # Predict first coord pair using final encoder hidden/cell states\n",
    "#         print(f\"traj_in.shape[0] = {traj_in.shape[0]}\")\n",
    "        batch_size = traj_in.shape[0]\n",
    "#         coords = torch.zeros((batch_size, self.unroll, 2)) # coords should be 4x60x2\n",
    "        coords = self.mlp(final_encoder_hidden)\n",
    "        coords = coords.reshape(batch_size,1,2)\n",
    "        curr_coords = coords\n",
    "#         coordstest = coords1.reshape(batch_size,1,2)\n",
    "#         print(f\"coordstest = {coordstest}\")\n",
    "#         print(f\"coords shape = {coords.shape}\")\n",
    "#         print(f\"coords1 shape = {coords1.shape}\")\n",
    "#         print(f\"coords1 = {coords1}\")\n",
    "#         coords1 = torch.squeeze(coords1)\n",
    "#         coords1 = torch.unsqueeze(coords1, 1)\n",
    "#         print(f\"coords1 shape = {coords1.shape}\")\n",
    "#         print(f\"coords1 = {coords1}\")\n",
    "#         return\n",
    "#         coords[0] = coords1\n",
    "        \n",
    "        # Autoregressively unroll next 59 timesteps: Pass hidden/cell states and predicted coords to next timestep\n",
    "#         unrolled_hidden = torch.zeros([batchsize, self.unroll, self.hidden_size], dtype=torch.float64)\n",
    "        curr_hidden, curr_cell = final_encoder_hidden, final_encoder_cell\n",
    "        for timestep in range(1,self.unroll): # Looping in range [1,60)\n",
    "            curr_hidden_states, (curr_hidden, curr_cell) = self.decoder(curr_coords, (curr_hidden, curr_cell))\n",
    "            coords_pred = self.mlp(curr_hidden)\n",
    "            coords_pred = coords_pred.reshape(batch_size,1,2)\n",
    "            coords = torch.cat((coords,coords_pred), 1)\n",
    "            curr_coords = coords_pred\n",
    "#             coords[timestep] = coords_pred\n",
    "\n",
    "        # Reshape coords list into a 120-dim vector and return\n",
    "#         print(f\"coords shape = {coords.shape}\")\n",
    "#         coords = coords.reshape(batch_size, self.unroll*2)\n",
    "#         print(f\"coords shape = {coords.shape}\")\n",
    "        return coords\n",
    "            # Append this coord pair to predicted trajectory, should be 120 long after decoding is done\n",
    "            # curr_hidden shape = (1, batchsize, hiddensize)\n",
    "#             unrolled_hidden[:,timestep,:] = curr_hidden\n",
    "\n",
    "\n",
    "# Train/val split\n",
    "city = 'palo-alto' \n",
    "split = 'train'\n",
    "full_dataset  = ArgoverseDataset(city = city, split = split)\n",
    "train_set, validation_set = torch.utils.data.random_split(full_dataset, [int(len(full_dataset)*5/6), len(full_dataset)-int(len(full_dataset)*5/6)])\n",
    "print(f\"full_dataset type = {type(full_dataset)}\")\n",
    "print(f\"train_set type = {type(train_set)}\")\n",
    "# Each element of train_set is a tuple of (input trajectory, output trajectory)\n",
    "\n",
    "# Dataloaders\n",
    "batch_size = 32\n",
    "train_loader = DataLoader(train_set, batch_size=batch_size,shuffle=True,drop_last=True, pin_memory=True)\n",
    "validation_loader = DataLoader(validation_set, batch_size=batch_size,drop_last=True, pin_memory=True)\n",
    "\n",
    "# Instantiate model\n",
    "hidden_size = 128\n",
    "input_size = 2\n",
    "# input_size = 2*len(train_set[0][0]) # 2*50 = 100 since there are x and y for 50 time steps\n",
    "    # print(f\"length of train_set tuple = {len(train_set[1][0])}, {len(train_set[1][1])}\")\n",
    "    # print(f\"input_size = {input_size}\")\n",
    "    # # assert train_set[1].shape == 50\n",
    "    # assert input_size == 100\n",
    "model = rnn(input_size, hidden_size)\n",
    "model.cuda()\n",
    "\n",
    "# Hyperparameters\n",
    "lr = 0.01\n",
    "num_epochs = 50\n",
    "opt = torch.optim.Adam(model.parameters(),lr=lr)\n",
    "loss_func = nn.MSELoss(reduction='sum')\n",
    "from math import sqrt # To get RMSE from MSE\n",
    "\n",
    "\n",
    "# Tracking metrics\n",
    "all_losses1 = [] # Train loss\n",
    "all_losses2 = [] # Validation loss\n",
    "import time\n",
    "from tqdm import tqdm\n",
    "start_time = time.time()\n",
    "\n",
    "\n",
    "for epoch in range(num_epochs):\n",
    "    \n",
    "    # Epoch for train set\n",
    "    model.train()\n",
    "    train_loss = 0\n",
    "    train_loss_alt = 0\n",
    "    for batch_num, sample_batch in enumerate(tqdm(train_loader)):\n",
    "        # Get batch of input and target trajectories.\n",
    "        trajs_in, trajs_target = sample_batch # Get input and output trajectories\n",
    "        trajs_in, trajs_target = trajs_in.float(), trajs_target.float()\n",
    "        trajs_in, trajs_target = trajs_in.cuda(), trajs_target.cuda()\n",
    "#         trajs_in = trajs_in.view(-1,input_size)\n",
    "#         trajs_target = trajs_target.view(-1,trajs_target.shape[1]*2)\n",
    "#         print(f\"trajs_in shape = {trajs_in.shape}\")\n",
    "#         print(f\"trajs_target shape = {trajs_target.shape}\")\n",
    "        \n",
    "        \n",
    "        # Initialize LSTM hidden/cell states,\n",
    "        # Forward pass: \n",
    "            #    trajs_in is the input, trajs_out\n",
    "            #    trajs_out is the model output\n",
    "            #    trajs_target is the groundtruth \n",
    "        hidden_init, cell_init = model.initStates(batch_size)\n",
    "        hidden_init, cell_init = hidden_init.cuda(), cell_init.cuda()\n",
    "#         print(f\"trajs_in shape = {trajs_in.shape}\")\n",
    "        trajs_out = model(trajs_in, hidden_init, cell_init)\n",
    "        \n",
    "        # Calculate loss\n",
    "        l_alt = ((trajs_out - trajs_target) ** 2).sum()\n",
    "        l = loss_func(trajs_out, trajs_target)\n",
    "        \n",
    "        # Gradient descent\n",
    "        opt.zero_grad()\n",
    "        l.backward()\n",
    "        opt.step()\n",
    "        \n",
    "        # Accumulate the losses for this epoch, do these operations affect autograd?\n",
    "        train_loss += l.item()\n",
    "        train_loss_alt += l_alt.item()\n",
    "        \n",
    "    # Track losses over all epochs\n",
    "    all_losses1.append(train_loss / len(train_loader))  \n",
    "        \n",
    "        \n",
    "    # Epoch for validation set\n",
    "    model.eval()\n",
    "    validation_loss = 0\n",
    "    validation_loss_alt = 0\n",
    "    for batch_num, sample_batch in enumerate(tqdm(validation_loader)):\n",
    "        # Get batch of input and target trajectories.\n",
    "        trajs_in, trajs_target = sample_batch # Get input and output trajectories\n",
    "        trajs_in, trajs_target = trajs_in.float(), trajs_target.float()\n",
    "        trajs_in, trajs_target = trajs_in.cuda(), trajs_target.cuda()\n",
    "#         print(f\"trajs_in shape = {trajs_in.shape}\")\n",
    "#         print(f\"trajs_target shape = {trajs_target.shape}\")\n",
    "        \n",
    "        # Initialize LSTM hidden/cell states,\n",
    "        # Forward pass: \n",
    "            #    trajs_in is the input, trajs_out\n",
    "            #    trajs_out is the model output\n",
    "            #    trajs_target is the groundtruth \n",
    "        hidden_init, cell_init = model.initStates(batch_size)\n",
    "        hidden_init, cell_init = hidden_init.cuda(), cell_init.cuda()\n",
    "        trajs_out = model(trajs_in, hidden_init, cell_init)\n",
    "        \n",
    "        # Calculate loss\n",
    "        l_alt = ((trajs_out - trajs_target) ** 2).sum()\n",
    "        l = loss_func(trajs_out, trajs_target)\n",
    "        \n",
    "        # Accumulate the losses for this epoch, do these operations affect autograd?\n",
    "        validation_loss += l.item()\n",
    "        validation_loss_alt += l_alt.item()\n",
    "        \n",
    "    # Track losses over all epochs\n",
    "    all_losses2.append(validation_loss / len(validation_loader)) \n",
    "\n",
    "    \n",
    "    # Print training progress\n",
    "    print(f'(train) epoch {epoch + 1},      avg. train loss     : { train_loss / len(train_loader) }') # What does :f do?\n",
    "    print(f\"train_alt = {(train_loss_alt/len(train_loader))/4/120}\")\n",
    "    print(f'(validation) epoch {epoch + 1}, avg. validation loss: {validation_loss / len(validation_loader)}') # What does :f do?\n",
    "    print(f\"validation_alt = {(validation_loss_alt/len(validation_set))/120}\")\n",
    "    # This is loss per coordinate, eg. (x - x_hat)^2 or (y - y_hat)^2\n",
    "    \n",
    "end_time = time.time()\n",
    "print(f\"took {end_time-start_time} seconds, time per epoch = {(end_time-start_time)/num_epochs}\")"
   ]
  },
  {
   "cell_type": "code",
   "execution_count": null,
   "id": "cfed968c",
   "metadata": {},
   "outputs": [],
   "source": [
    "import matplotlib.pyplot as plt\n",
    "import matplotlib.ticker as ticker\n",
    "# Should be per trajectory loss\n",
    "plt.figure()\n",
    "plt.plot(all_losses1,label=\"avg. train loss\")\n",
    "\n",
    "plt.plot(all_losses2,label=\"avg. validation loss\")\n",
    "leg = plt.legend(loc='upper center')\n",
    "plt.show()"
   ]
  }
 ],
 "metadata": {
  "kernelspec": {
   "display_name": "Python 3 (ipykernel)",
   "language": "python",
   "name": "python3"
  },
  "language_info": {
   "codemirror_mode": {
    "name": "ipython",
    "version": 3
   },
   "file_extension": ".py",
   "mimetype": "text/x-python",
   "name": "python",
   "nbconvert_exporter": "python",
   "pygments_lexer": "ipython3",
   "version": "3.9.5"
  }
 },
 "nbformat": 4,
 "nbformat_minor": 5
}
